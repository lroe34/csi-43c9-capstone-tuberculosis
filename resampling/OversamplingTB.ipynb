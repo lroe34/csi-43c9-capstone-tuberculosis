{
  "nbformat": 4,
  "nbformat_minor": 0,
  "metadata": {
    "colab": {
      "provenance": [],
      "collapsed_sections": [
        "073OzsqCB2Xa",
        "TNx0eu2hxs0Q",
        "Fnz3ypDSyVVi",
        "3L0MzG9dz1VW",
        "1B_1GgnW25BX",
        "fyEZl1gX3J85"
      ]
    },
    "kernelspec": {
      "name": "python3",
      "display_name": "Python 3"
    },
    "language_info": {
      "name": "python"
    }
  },
  "cells": [
    {
      "cell_type": "markdown",
      "source": [
        "### Libraries and Data Loading"
      ],
      "metadata": {
        "id": "tBJAbFFup4KN"
      }
    },
    {
      "cell_type": "code",
      "execution_count": 1,
      "metadata": {
        "id": "WYEPu_YY-lu0"
      },
      "outputs": [],
      "source": [
        "import pandas as pd\n",
        "import numpy as np\n",
        "from imblearn.over_sampling import SMOTE, ADASYN\n",
        "from sklearn.ensemble import RandomForestClassifier\n",
        "from sklearn.metrics import classification_report, confusion_matrix\n",
        "from sklearn.model_selection import train_test_split\n",
        "from xgboost import XGBClassifier\n",
        "from sklearn.svm import SVC\n",
        "import matplotlib.pyplot as plt\n",
        "import seaborn as sns\n",
        "import warnings\n",
        "warnings.filterwarnings('ignore')"
      ]
    },
    {
      "cell_type": "code",
      "source": [
        "# import data from drive\n",
        "from google.colab import drive\n",
        "drive.mount('/content/drive')\n",
        "df = pd.read_csv('/content/drive/MyDrive/Colab Notebooks/TB Final Data/tb_drug_data_minmax.csv')"
      ],
      "metadata": {
        "colab": {
          "base_uri": "https://localhost:8080/"
        },
        "id": "zNOT0KEQ-nKc",
        "outputId": "370f00f9-71e2-4788-89a9-58386ee0963d"
      },
      "execution_count": 2,
      "outputs": [
        {
          "output_type": "stream",
          "name": "stdout",
          "text": [
            "Mounted at /content/drive\n"
          ]
        }
      ]
    },
    {
      "cell_type": "markdown",
      "source": [
        "### Control Cases"
      ],
      "metadata": {
        "id": "073OzsqCB2Xa"
      }
    },
    {
      "cell_type": "code",
      "source": [
        "X = df.drop('TB Type', axis=1)\n",
        "X.rename(columns={'Cough >=2 weeks':'Cough gte 2 week', 'Cough <2 weeks':'Cough lt 2 weeks'}, inplace=True)\n",
        "y = df['TB Type']\n",
        "X_train, X_test, y_train, y_test = train_test_split(X, y, test_size=0.2, random_state=42)"
      ],
      "metadata": {
        "id": "HfL9i0AErGsb"
      },
      "execution_count": 3,
      "outputs": []
    },
    {
      "cell_type": "code",
      "source": [
        "# Random Forest Classifier Control\n",
        "rf_clf = RandomForestClassifier(random_state=42)\n",
        "rf_clf.fit(X_train, y_train)\n",
        "\n",
        "y_pred = rf_clf.predict(X_test)\n",
        "\n",
        "print(classification_report(y_test, y_pred))\n",
        "print(confusion_matrix(y_test, y_pred))\n"
      ],
      "metadata": {
        "colab": {
          "base_uri": "https://localhost:8080/"
        },
        "id": "uZRjvXaHAROS",
        "outputId": "fbabd910-d761-45a0-b17a-ec8584a79db8"
      },
      "execution_count": 24,
      "outputs": [
        {
          "output_type": "stream",
          "name": "stdout",
          "text": [
            "              precision    recall  f1-score   support\n",
            "\n",
            "         0.0       0.08      0.02      0.03        52\n",
            "         1.0       0.00      0.00      0.00        21\n",
            "         2.0       0.00      0.00      0.00        21\n",
            "         3.0       0.69      0.95      0.80       212\n",
            "\n",
            "    accuracy                           0.66       306\n",
            "   macro avg       0.19      0.24      0.21       306\n",
            "weighted avg       0.49      0.66      0.56       306\n",
            "\n",
            "[[  1   0   0  51]\n",
            " [  1   0   0  20]\n",
            " [  1   0   0  20]\n",
            " [ 10   0   1 201]]\n"
          ]
        }
      ]
    },
    {
      "cell_type": "code",
      "source": [
        "# XGBoost Classifier Control\n",
        "xg_clf = XGBClassifier(random_state=42)\n",
        "xg_clf.fit(X_train, y_train)\n",
        "\n",
        "y_pred = xg_clf.predict(X_test)\n",
        "\n",
        "print(classification_report(y_test, y_pred))\n",
        "print(confusion_matrix(y_test, y_pred))"
      ],
      "metadata": {
        "colab": {
          "base_uri": "https://localhost:8080/"
        },
        "id": "g91tDQ_Cq2p7",
        "outputId": "8bae7b59-7b19-4541-a7e2-32a5321dc47c"
      },
      "execution_count": 25,
      "outputs": [
        {
          "output_type": "stream",
          "name": "stdout",
          "text": [
            "              precision    recall  f1-score   support\n",
            "\n",
            "         0.0       0.10      0.04      0.06        52\n",
            "         1.0       0.00      0.00      0.00        21\n",
            "         2.0       0.33      0.10      0.15        21\n",
            "         3.0       0.71      0.92      0.80       212\n",
            "\n",
            "    accuracy                           0.65       306\n",
            "   macro avg       0.28      0.26      0.25       306\n",
            "weighted avg       0.53      0.65      0.57       306\n",
            "\n",
            "[[  2   2   3  45]\n",
            " [  3   0   0  18]\n",
            " [  1   0   2  18]\n",
            " [ 14   3   1 194]]\n"
          ]
        }
      ]
    },
    {
      "cell_type": "code",
      "source": [
        "# SVM Classifier Control\n",
        "svm_clf = SVC(random_state=42)\n",
        "svm_clf.fit(X_train, y_train)\n",
        "\n",
        "y_pred = svm_clf.predict(X_test)\n",
        "\n",
        "print(classification_report(y_test, y_pred))\n",
        "print(confusion_matrix(y_test, y_pred))"
      ],
      "metadata": {
        "colab": {
          "base_uri": "https://localhost:8080/"
        },
        "id": "tjXp4Ki9s_k1",
        "outputId": "ff58a7d8-2c36-4b31-a7a1-6ee1363171b1"
      },
      "execution_count": 27,
      "outputs": [
        {
          "output_type": "stream",
          "name": "stdout",
          "text": [
            "              precision    recall  f1-score   support\n",
            "\n",
            "         0.0       0.00      0.00      0.00        52\n",
            "         1.0       0.00      0.00      0.00        21\n",
            "         2.0       0.00      0.00      0.00        21\n",
            "         3.0       0.69      1.00      0.82       212\n",
            "\n",
            "    accuracy                           0.69       306\n",
            "   macro avg       0.17      0.25      0.20       306\n",
            "weighted avg       0.48      0.69      0.57       306\n",
            "\n",
            "[[  0   0   0  52]\n",
            " [  0   0   0  21]\n",
            " [  0   0   0  21]\n",
            " [  0   0   0 212]]\n"
          ]
        }
      ]
    },
    {
      "cell_type": "markdown",
      "source": [],
      "metadata": {
        "id": "P_917NogxqQj"
      }
    },
    {
      "cell_type": "markdown",
      "source": [
        "### SMOTE Minority"
      ],
      "metadata": {
        "id": "TNx0eu2hxs0Q"
      }
    },
    {
      "cell_type": "code",
      "source": [
        "smote = SMOTE(random_state=42, k_neighbors=5, sampling_strategy='minority')\n",
        "X_train_resampled, y_train_resampled = smote.fit_resample(X_train, y_train)"
      ],
      "metadata": {
        "id": "zvEYDeo_x3D9"
      },
      "execution_count": 11,
      "outputs": []
    },
    {
      "cell_type": "code",
      "source": [
        "# Random Forest Smote Minority\n",
        "rf_clf = RandomForestClassifier(random_state=42, n_estimators=100)\n",
        "rf_clf.fit(X_train_resampled, y_train_resampled)\n",
        "\n",
        "y_pred = rf_clf.predict(X_test)\n",
        "print(classification_report(y_test, y_pred))\n",
        "print(confusion_matrix(y_test, y_pred))\n",
        "\n",
        "cm = confusion_matrix(y_test, y_pred)\n",
        "plt.figure(figsize=(8, 6))\n",
        "sns.heatmap(cm, annot=True, fmt='d', cmap='viridis', cbar=False,\n",
        "            xticklabels=['Class 0', 'Class 1', 'Class 2', 'Class 3'],\n",
        "            yticklabels=['Class 0', 'Class 1', 'Class 2', 'Class 3'])\n",
        "plt.xlabel('Predicted')\n",
        "plt.ylabel('Actual')\n",
        "plt.title('Confusion Matrix - Random Forest with SMOTE Minority (4 Classes)')\n",
        "plt.show()"
      ],
      "metadata": {
        "colab": {
          "base_uri": "https://localhost:8080/",
          "height": 824
        },
        "id": "xX8mRti7x4hQ",
        "outputId": "b9140ad4-154a-4ca6-a050-4453b3fd01f3"
      },
      "execution_count": 12,
      "outputs": [
        {
          "output_type": "stream",
          "name": "stdout",
          "text": [
            "              precision    recall  f1-score   support\n",
            "\n",
            "         0.0       0.00      0.00      0.00        52\n",
            "         1.0       0.00      0.00      0.00        21\n",
            "         2.0       0.00      0.00      0.00        21\n",
            "         3.0       0.69      0.96      0.80       212\n",
            "\n",
            "    accuracy                           0.66       306\n",
            "   macro avg       0.17      0.24      0.20       306\n",
            "weighted avg       0.48      0.66      0.56       306\n",
            "\n",
            "[[  0   1   1  50]\n",
            " [  0   0   0  21]\n",
            " [  1   1   0  19]\n",
            " [  6   3   0 203]]\n"
          ]
        },
        {
          "output_type": "display_data",
          "data": {
            "text/plain": [
              "<Figure size 800x600 with 1 Axes>"
            ],
            "image/png": "[encoded data removed]"
          },
          "metadata": {}
        }
      ]
    },
    {
      "cell_type": "code",
      "source": [
        "# XGBoost Smote Minority\n",
        "xg_clf = XGBClassifier(random_state=42, n_estimators=100)\n",
        "xg_clf.fit(X_train_resampled, y_train_resampled)\n",
        "\n",
        "y_pred = xg_clf.predict(X_test)\n",
        "print(classification_report(y_test, y_pred))\n",
        "print(confusion_matrix(y_test, y_pred))"
      ],
      "metadata": {
        "colab": {
          "base_uri": "https://localhost:8080/"
        },
        "id": "TtdH76rSx7yl",
        "outputId": "08b88956-e801-4bc4-8743-a0c68c3c4e16"
      },
      "execution_count": 54,
      "outputs": [
        {
          "output_type": "stream",
          "name": "stdout",
          "text": [
            "              precision    recall  f1-score   support\n",
            "\n",
            "         0.0       0.15      0.08      0.10        52\n",
            "         1.0       0.22      0.10      0.13        21\n",
            "         2.0       0.14      0.05      0.07        21\n",
            "         3.0       0.70      0.87      0.78       212\n",
            "\n",
            "    accuracy                           0.63       306\n",
            "   macro avg       0.30      0.27      0.27       306\n",
            "weighted avg       0.54      0.63      0.57       306\n",
            "\n",
            "[[  4   1   2  45]\n",
            " [  2   2   1  16]\n",
            " [  2   0   1  18]\n",
            " [ 18   6   3 185]]\n"
          ]
        }
      ]
    },
    {
      "cell_type": "code",
      "source": [
        "# SVM Smote Minority\n",
        "svm_clf = SVC(random_state=42, kernel='linear')\n",
        "svm_clf.fit(X_train_resampled, y_train_resampled)\n",
        "\n",
        "y_pred = svm_clf.predict(X_test)\n",
        "print(classification_report(y_test, y_pred))\n",
        "print(confusion_matrix(y_test, y_pred))"
      ],
      "metadata": {
        "colab": {
          "base_uri": "https://localhost:8080/"
        },
        "id": "DSwWThuryJSR",
        "outputId": "a49d98fa-90cb-4fdd-d4dc-d9a59752f06a"
      },
      "execution_count": 55,
      "outputs": [
        {
          "output_type": "stream",
          "name": "stdout",
          "text": [
            "              precision    recall  f1-score   support\n",
            "\n",
            "         0.0       0.00      0.00      0.00        52\n",
            "         1.0       0.09      0.48      0.15        21\n",
            "         2.0       0.00      0.00      0.00        21\n",
            "         3.0       0.72      0.67      0.69       212\n",
            "\n",
            "    accuracy                           0.50       306\n",
            "   macro avg       0.20      0.29      0.21       306\n",
            "weighted avg       0.51      0.50      0.49       306\n",
            "\n",
            "[[  0  20   0  32]\n",
            " [  0  10   0  11]\n",
            " [  0   9   0  12]\n",
            " [  0  70   0 142]]\n"
          ]
        }
      ]
    },
    {
      "cell_type": "markdown",
      "source": [
        "### SMOTE Not-Majority"
      ],
      "metadata": {
        "id": "Fnz3ypDSyVVi"
      }
    },
    {
      "cell_type": "code",
      "source": [
        "smote = SMOTE(random_state=42, k_neighbors=5, sampling_strategy='not majority')\n",
        "X_train_resampled, y_train_resampled = smote.fit_resample(X_train, y_train)"
      ],
      "metadata": {
        "id": "CmLOhFYlyVDk"
      },
      "execution_count": 7,
      "outputs": []
    },
    {
      "cell_type": "code",
      "source": [
        "# RandomForest not Majority\n",
        "rf_clf = RandomForestClassifier(random_state=42, n_estimators=100)\n",
        "rf_clf.fit(X_train_resampled, y_train_resampled)\n",
        "\n",
        "y_pred = rf_clf.predict(X_test)\n",
        "print(classification_report(y_test, y_pred))\n",
        "print(confusion_matrix(y_test, y_pred))"
      ],
      "metadata": {
        "colab": {
          "base_uri": "https://localhost:8080/"
        },
        "id": "m615wbPMzcce",
        "outputId": "f669a47e-bf8f-4cf9-a7c0-ab1be42584ba"
      },
      "execution_count": 61,
      "outputs": [
        {
          "output_type": "stream",
          "name": "stdout",
          "text": [
            "              precision    recall  f1-score   support\n",
            "\n",
            "         0.0       0.15      0.08      0.10        52\n",
            "         1.0       0.00      0.00      0.00        21\n",
            "         2.0       0.14      0.05      0.07        21\n",
            "         3.0       0.72      0.90      0.80       212\n",
            "\n",
            "    accuracy                           0.64       306\n",
            "   macro avg       0.25      0.26      0.24       306\n",
            "weighted avg       0.53      0.64      0.57       306\n",
            "\n",
            "[[  4   1   4  43]\n",
            " [  5   0   1  15]\n",
            " [  2   0   1  18]\n",
            " [ 16   4   1 191]]\n"
          ]
        }
      ]
    },
    {
      "cell_type": "code",
      "source": [
        "# XGBoost not Majority\n",
        "xg_clf = XGBClassifier(random_state=42, n_estimators=100)\n",
        "xg_clf.fit(X_train_resampled, y_train_resampled)\n",
        "\n",
        "y_pred = xg_clf.predict(X_test)\n",
        "print(classification_report(y_test, y_pred))\n",
        "print(confusion_matrix(y_test, y_pred))\n",
        "\n",
        "cm = confusion_matrix(y_test, y_pred)\n",
        "plt.figure(figsize=(8, 6))\n",
        "sns.heatmap(cm, annot=True, fmt='d', cmap='viridis', cbar=False,\n",
        "            xticklabels=['Class 0', 'Class 1', 'Class 2', 'Class 3'],\n",
        "            yticklabels=['Class 0', 'Class 1', 'Class 2', 'Class 3'])\n",
        "plt.xlabel('Predicted')\n",
        "plt.ylabel('Actual')\n",
        "plt.title('Confusion Matrix - XGBoost with SMOTE Not-Majority')\n",
        "plt.show()"
      ],
      "metadata": {
        "colab": {
          "base_uri": "https://localhost:8080/",
          "height": 824
        },
        "id": "0gSvdMebzg75",
        "outputId": "559f7980-ef86-425d-992a-a2ec42fa3bb3"
      },
      "execution_count": 13,
      "outputs": [
        {
          "output_type": "stream",
          "name": "stdout",
          "text": [
            "              precision    recall  f1-score   support\n",
            "\n",
            "         0.0       0.15      0.08      0.10        52\n",
            "         1.0       0.22      0.10      0.13        21\n",
            "         2.0       0.14      0.05      0.07        21\n",
            "         3.0       0.70      0.87      0.78       212\n",
            "\n",
            "    accuracy                           0.63       306\n",
            "   macro avg       0.30      0.27      0.27       306\n",
            "weighted avg       0.54      0.63      0.57       306\n",
            "\n",
            "[[  4   1   2  45]\n",
            " [  2   2   1  16]\n",
            " [  2   0   1  18]\n",
            " [ 18   6   3 185]]\n"
          ]
        },
        {
          "output_type": "display_data",
          "data": {
            "text/plain": [
              "<Figure size 800x600 with 1 Axes>"
            ],
            "image/png": "[encoded data removed]"
          },
          "metadata": {}
        }
      ]
    },
    {
      "cell_type": "code",
      "source": [
        "# SVM not majority\n",
        "svm_clf = SVC(random_state=42, kernel='linear')\n",
        "svm_clf.fit(X_train_resampled, y_train_resampled)\n",
        "\n",
        "y_pred = svm_clf.predict(X_test)\n",
        "print(classification_report(y_test, y_pred))\n",
        "print(confusion_matrix(y_test, y_pred))"
      ],
      "metadata": {
        "colab": {
          "base_uri": "https://localhost:8080/"
        },
        "id": "I7VgOV1szoai",
        "outputId": "ada907a8-e809-4310-fee8-4cf4ad5a157e"
      },
      "execution_count": 63,
      "outputs": [
        {
          "output_type": "stream",
          "name": "stdout",
          "text": [
            "              precision    recall  f1-score   support\n",
            "\n",
            "         0.0       0.15      0.23      0.18        52\n",
            "         1.0       0.10      0.33      0.15        21\n",
            "         2.0       0.05      0.19      0.07        21\n",
            "         3.0       0.69      0.23      0.34       212\n",
            "\n",
            "    accuracy                           0.23       306\n",
            "   macro avg       0.25      0.25      0.19       306\n",
            "weighted avg       0.51      0.23      0.28       306\n",
            "\n",
            "[[12 13 12 15]\n",
            " [ 4  7  7  3]\n",
            " [ 6  7  4  4]\n",
            " [57 44 63 48]]\n"
          ]
        }
      ]
    },
    {
      "cell_type": "markdown",
      "source": [
        "### SMOTE Specific Techniques"
      ],
      "metadata": {
        "id": "3L0MzG9dz1VW"
      }
    },
    {
      "cell_type": "code",
      "source": [
        "ratio = 0.8\n",
        "n_majority = y_train.value_counts().max()\n",
        "sampling_strategy_custom = {\n",
        "    0.0: int(n_majority * ratio),\n",
        "    1.0: int(n_majority * ratio),\n",
        "    2.0: int(n_majority * ratio)\n",
        "}\n",
        "\n",
        "smote = SMOTE(random_state=42, k_neighbors=5, sampling_strategy=sampling_strategy_custom)\n",
        "X_train_resampled, y_train_resampled = smote.fit_resample(X_train, y_train)"
      ],
      "metadata": {
        "id": "sjMW5-lHz4iQ"
      },
      "execution_count": 75,
      "outputs": []
    },
    {
      "cell_type": "code",
      "source": [
        "# RandomForest\n",
        "rf_clf = RandomForestClassifier(random_state=42, n_estimators=100)\n",
        "rf_clf.fit(X_train_resampled, y_train_resampled)\n",
        "\n",
        "y_pred = rf_clf.predict(X_test)\n",
        "print(classification_report(y_test, y_pred))\n",
        "print(confusion_matrix(y_test, y_pred))"
      ],
      "metadata": {
        "colab": {
          "base_uri": "https://localhost:8080/"
        },
        "id": "WQP6D2Vf2LiO",
        "outputId": "b019c822-035d-47ce-d27c-587cf677e67e"
      },
      "execution_count": 76,
      "outputs": [
        {
          "output_type": "stream",
          "name": "stdout",
          "text": [
            "              precision    recall  f1-score   support\n",
            "\n",
            "         0.0       0.10      0.04      0.06        52\n",
            "         1.0       0.00      0.00      0.00        21\n",
            "         2.0       0.00      0.00      0.00        21\n",
            "         3.0       0.71      0.92      0.80       212\n",
            "\n",
            "    accuracy                           0.64       306\n",
            "   macro avg       0.20      0.24      0.21       306\n",
            "weighted avg       0.51      0.64      0.56       306\n",
            "\n",
            "[[  2   0   4  46]\n",
            " [  4   0   1  16]\n",
            " [  2   3   0  16]\n",
            " [ 12   4   2 194]]\n"
          ]
        }
      ]
    },
    {
      "cell_type": "code",
      "source": [
        "# XGBoost\n",
        "xg_clf = XGBClassifier(random_state=42, n_estimators=100)\n",
        "xg_clf.fit(X_train_resampled, y_train_resampled)\n",
        "\n",
        "y_pred = xg_clf.predict(X_test)\n",
        "print(classification_report(y_test, y_pred))\n",
        "print(confusion_matrix(y_test, y_pred))"
      ],
      "metadata": {
        "colab": {
          "base_uri": "https://localhost:8080/"
        },
        "id": "aCMopkTe2QCy",
        "outputId": "40803fa3-8f01-4dc0-8404-52cb919f84b8"
      },
      "execution_count": 77,
      "outputs": [
        {
          "output_type": "stream",
          "name": "stdout",
          "text": [
            "              precision    recall  f1-score   support\n",
            "\n",
            "         0.0       0.16      0.06      0.08        52\n",
            "         1.0       0.29      0.10      0.14        21\n",
            "         2.0       0.29      0.10      0.14        21\n",
            "         3.0       0.70      0.91      0.79       212\n",
            "\n",
            "    accuracy                           0.65       306\n",
            "   macro avg       0.36      0.29      0.29       306\n",
            "weighted avg       0.55      0.65      0.58       306\n",
            "\n",
            "[[  3   0   2  47]\n",
            " [  3   2   0  16]\n",
            " [  1   0   2  18]\n",
            " [ 12   5   3 192]]\n"
          ]
        }
      ]
    },
    {
      "cell_type": "code",
      "source": [
        "# SVM\n",
        "svm_clf = SVC(random_state=42, kernel='linear')\n",
        "svm_clf.fit(X_train_resampled, y_train_resampled)\n",
        "\n",
        "y_pred = svm_clf.predict(X_test)\n",
        "print(classification_report(y_test, y_pred))\n",
        "print(confusion_matrix(y_test, y_pred))"
      ],
      "metadata": {
        "colab": {
          "base_uri": "https://localhost:8080/"
        },
        "id": "bgNde7Rf2UMP",
        "outputId": "3f576bd8-a02c-4a6b-810e-5c88c9f11b76"
      },
      "execution_count": 78,
      "outputs": [
        {
          "output_type": "stream",
          "name": "stdout",
          "text": [
            "              precision    recall  f1-score   support\n",
            "\n",
            "         0.0       0.17      0.10      0.12        52\n",
            "         1.0       0.11      0.29      0.16        21\n",
            "         2.0       0.07      0.24      0.11        21\n",
            "         3.0       0.72      0.53      0.61       212\n",
            "\n",
            "    accuracy                           0.42       306\n",
            "   macro avg       0.27      0.29      0.25       306\n",
            "weighted avg       0.54      0.42      0.46       306\n",
            "\n",
            "[[  5  11  11  25]\n",
            " [  2   6   5   8]\n",
            " [  2   4   5  10]\n",
            " [ 21  32  47 112]]\n"
          ]
        }
      ]
    },
    {
      "cell_type": "markdown",
      "source": [
        "### ADASYN Minority"
      ],
      "metadata": {
        "id": "1B_1GgnW25BX"
      }
    },
    {
      "cell_type": "code",
      "source": [
        "# ADASYN with minority strategy\n",
        "adasyn = ADASYN(random_state=42, sampling_strategy='minority')\n",
        "X_train_resampled, y_train_resampled = adasyn.fit_resample(X_train, y_train)"
      ],
      "metadata": {
        "id": "6LpeDmMM28MC"
      },
      "execution_count": 79,
      "outputs": []
    },
    {
      "cell_type": "code",
      "source": [
        "# Random Forest with ADASYN Minority\n",
        "rf_clf = RandomForestClassifier(random_state=42, n_estimators=100)\n",
        "rf_clf.fit(X_train_resampled, y_train_resampled)\n",
        "\n",
        "y_pred = rf_clf.predict(X_test)\n",
        "print(\"Random Forest with ADASYN Minority:\")\n",
        "print(classification_report(y_test, y_pred))\n",
        "print(confusion_matrix(y_test, y_pred))\n"
      ],
      "metadata": {
        "colab": {
          "base_uri": "https://localhost:8080/"
        },
        "id": "2b54rSUz3AaH",
        "outputId": "3e9b2708-de1c-48cb-93fc-64429c2257f9"
      },
      "execution_count": 80,
      "outputs": [
        {
          "output_type": "stream",
          "name": "stdout",
          "text": [
            "Random Forest with ADASYN Minority:\n",
            "              precision    recall  f1-score   support\n",
            "\n",
            "         0.0       0.00      0.00      0.00        52\n",
            "         1.0       0.00      0.00      0.00        21\n",
            "         2.0       0.00      0.00      0.00        21\n",
            "         3.0       0.70      0.96      0.81       212\n",
            "\n",
            "    accuracy                           0.67       306\n",
            "   macro avg       0.18      0.24      0.20       306\n",
            "weighted avg       0.49      0.67      0.56       306\n",
            "\n",
            "[[  0   1   0  51]\n",
            " [  2   0   0  19]\n",
            " [  2   2   0  17]\n",
            " [  5   3   0 204]]\n"
          ]
        }
      ]
    },
    {
      "cell_type": "code",
      "source": [
        "# XGBoost with ADASYN Minority\n",
        "xg_clf = XGBClassifier(random_state=42, n_estimators=100)\n",
        "xg_clf.fit(X_train_resampled, y_train_resampled)\n",
        "\n",
        "y_pred = xg_clf.predict(X_test)\n",
        "print(\"XGBoost with ADASYN Minority:\")\n",
        "print(classification_report(y_test, y_pred))\n",
        "print(confusion_matrix(y_test, y_pred))"
      ],
      "metadata": {
        "colab": {
          "base_uri": "https://localhost:8080/"
        },
        "id": "ZZPxcFw23DAI",
        "outputId": "7a7c322a-9fa8-4d68-a1f9-af90027ada0f"
      },
      "execution_count": 81,
      "outputs": [
        {
          "output_type": "stream",
          "name": "stdout",
          "text": [
            "XGBoost with ADASYN Minority:\n",
            "              precision    recall  f1-score   support\n",
            "\n",
            "         0.0       0.11      0.04      0.06        52\n",
            "         1.0       0.17      0.05      0.07        21\n",
            "         2.0       0.00      0.00      0.00        21\n",
            "         3.0       0.70      0.91      0.79       212\n",
            "\n",
            "    accuracy                           0.64       306\n",
            "   macro avg       0.24      0.25      0.23       306\n",
            "weighted avg       0.51      0.64      0.56       306\n",
            "\n",
            "[[  2   2   2  46]\n",
            " [  2   1   0  18]\n",
            " [  1   0   0  20]\n",
            " [ 13   3   4 192]]\n"
          ]
        }
      ]
    },
    {
      "cell_type": "code",
      "source": [
        "# SVM with ADASYN Minority\n",
        "svm_clf = SVC(random_state=42, kernel='linear')\n",
        "svm_clf.fit(X_train_resampled, y_train_resampled)\n",
        "\n",
        "y_pred = svm_clf.predict(X_test)\n",
        "print(\"SVM with ADASYN Minority:\")\n",
        "print(classification_report(y_test, y_pred))\n",
        "print(confusion_matrix(y_test, y_pred))"
      ],
      "metadata": {
        "colab": {
          "base_uri": "https://localhost:8080/"
        },
        "id": "ACBR0SW33Ee6",
        "outputId": "975ccc27-d5b9-46c7-d3a2-07631682bc27"
      },
      "execution_count": 82,
      "outputs": [
        {
          "output_type": "stream",
          "name": "stdout",
          "text": [
            "SVM with ADASYN Minority:\n",
            "              precision    recall  f1-score   support\n",
            "\n",
            "         0.0       0.00      0.00      0.00        52\n",
            "         1.0       0.09      0.48      0.15        21\n",
            "         2.0       0.00      0.00      0.00        21\n",
            "         3.0       0.70      0.64      0.67       212\n",
            "\n",
            "    accuracy                           0.47       306\n",
            "   macro avg       0.20      0.28      0.20       306\n",
            "weighted avg       0.49      0.47      0.47       306\n",
            "\n",
            "[[  0  19   0  33]\n",
            " [  0  10   0  11]\n",
            " [  0   8   0  13]\n",
            " [  0  77   0 135]]\n"
          ]
        }
      ]
    },
    {
      "cell_type": "code",
      "source": [],
      "metadata": {
        "id": "TXcPNjL43GmL"
      },
      "execution_count": null,
      "outputs": []
    },
    {
      "cell_type": "markdown",
      "source": [
        "### ADASYN Not-Majority"
      ],
      "metadata": {
        "id": "fyEZl1gX3J85"
      }
    },
    {
      "cell_type": "code",
      "source": [
        "# ADASYN with not majority strategy\n",
        "adasyn = ADASYN(random_state=42, sampling_strategy='not majority')\n",
        "X_train_resampled, y_train_resampled = adasyn.fit_resample(X_train, y_train)"
      ],
      "metadata": {
        "id": "5HfZdDru3Le3"
      },
      "execution_count": 83,
      "outputs": []
    },
    {
      "cell_type": "code",
      "source": [
        "# Random Forest Not Majority\n",
        "rf_clf = RandomForestClassifier(random_state=42, n_estimators=100)\n",
        "rf_clf.fit(X_train_resampled, y_train_resampled)\n",
        "\n",
        "y_pred = rf_clf.predict(X_test)\n",
        "print(\"Random Forest with ADASYN Not Majority:\")\n",
        "print(classification_report(y_test, y_pred))\n",
        "print(confusion_matrix(y_test, y_pred))"
      ],
      "metadata": {
        "colab": {
          "base_uri": "https://localhost:8080/"
        },
        "id": "Gl6SEAyZ3OUQ",
        "outputId": "c28814ac-4bfe-4a5f-ac89-cfd837f96396"
      },
      "execution_count": 84,
      "outputs": [
        {
          "output_type": "stream",
          "name": "stdout",
          "text": [
            "Random Forest with ADASYN Not Majority:\n",
            "              precision    recall  f1-score   support\n",
            "\n",
            "         0.0       0.22      0.10      0.13        52\n",
            "         1.0       0.00      0.00      0.00        21\n",
            "         2.0       0.14      0.05      0.07        21\n",
            "         3.0       0.71      0.92      0.80       212\n",
            "\n",
            "    accuracy                           0.65       306\n",
            "   macro avg       0.27      0.26      0.25       306\n",
            "weighted avg       0.54      0.65      0.58       306\n",
            "\n",
            "[[  5   1   3  43]\n",
            " [  2   0   1  18]\n",
            " [  2   0   1  18]\n",
            " [ 14   2   2 194]]\n"
          ]
        }
      ]
    },
    {
      "cell_type": "code",
      "source": [
        "# XGBoost Not Majority\n",
        "xg_clf = XGBClassifier(random_state=42, n_estimators=100)\n",
        "xg_clf.fit(X_train_resampled, y_train_resampled)\n",
        "\n",
        "y_pred = xg_clf.predict(X_test)\n",
        "print(\"XGBoost with ADASYN Not Majority:\")\n",
        "print(classification_report(y_test, y_pred))\n",
        "print(confusion_matrix(y_test, y_pred))"
      ],
      "metadata": {
        "colab": {
          "base_uri": "https://localhost:8080/"
        },
        "id": "TSD4oxPE3Tfy",
        "outputId": "6ba1e443-fb7c-4ddf-e2ac-7f325c73dd43"
      },
      "execution_count": 85,
      "outputs": [
        {
          "output_type": "stream",
          "name": "stdout",
          "text": [
            "XGBoost with ADASYN Not Majority:\n",
            "              precision    recall  f1-score   support\n",
            "\n",
            "         0.0       0.05      0.02      0.03        52\n",
            "         1.0       0.20      0.05      0.08        21\n",
            "         2.0       0.25      0.10      0.14        21\n",
            "         3.0       0.69      0.89      0.78       212\n",
            "\n",
            "    accuracy                           0.63       306\n",
            "   macro avg       0.30      0.26      0.26       306\n",
            "weighted avg       0.52      0.63      0.56       306\n",
            "\n",
            "[[  1   0   3  48]\n",
            " [  3   1   0  17]\n",
            " [  1   0   2  18]\n",
            " [ 17   4   3 188]]\n"
          ]
        }
      ]
    },
    {
      "cell_type": "code",
      "source": [
        "# SVM Not Majority\n",
        "svm_clf = SVC(random_state=42, kernel='linear')\n",
        "svm_clf.fit(X_train_resampled, y_train_resampled)\n",
        "\n",
        "y_pred = svm_clf.predict(X_test)\n",
        "print(\"SVM with ADASYN Not Majority:\")\n",
        "print(classification_report(y_test, y_pred))\n",
        "print(confusion_matrix(y_test, y_pred))"
      ],
      "metadata": {
        "colab": {
          "base_uri": "https://localhost:8080/"
        },
        "id": "afa_BmY63VaC",
        "outputId": "42f86eda-5e7f-477b-b923-fdf1b880b8a6"
      },
      "execution_count": 86,
      "outputs": [
        {
          "output_type": "stream",
          "name": "stdout",
          "text": [
            "SVM with ADASYN Not Majority:\n",
            "              precision    recall  f1-score   support\n",
            "\n",
            "         0.0       0.16      0.21      0.18        52\n",
            "         1.0       0.10      0.33      0.16        21\n",
            "         2.0       0.04      0.19      0.07        21\n",
            "         3.0       0.71      0.24      0.35       212\n",
            "\n",
            "    accuracy                           0.24       306\n",
            "   macro avg       0.25      0.24      0.19       306\n",
            "weighted avg       0.53      0.24      0.29       306\n",
            "\n",
            "[[11 15 14 12]\n",
            " [ 3  7  8  3]\n",
            " [ 5  7  4  5]\n",
            " [51 38 73 50]]\n"
          ]
        }
      ]
    },
    {
      "cell_type": "markdown",
      "source": [
        "### ADASYN Sampling Technique"
      ],
      "metadata": {
        "id": "MAyDlNTL3bZG"
      }
    },
    {
      "cell_type": "code",
      "source": [
        "ratio = 0.5\n",
        "n_majority = y_train.value_counts().max()\n",
        "sampling_strategy_custom = {\n",
        "    0.0: int(n_majority * ratio),\n",
        "    1.0: int(n_majority * ratio),\n",
        "    2.0: int(n_majority * ratio)\n",
        "}\n",
        "\n",
        "# ADASYN with custom sampling strategy\n",
        "adasyn = ADASYN(random_state=42, sampling_strategy=sampling_strategy_custom)\n",
        "X_train_resampled, y_train_resampled = adasyn.fit_resample(X_train, y_train)"
      ],
      "metadata": {
        "id": "2lEeqv9t3YIs"
      },
      "execution_count": 14,
      "outputs": []
    },
    {
      "cell_type": "code",
      "source": [
        "# Random Forest Custom Strategy\n",
        "rf_clf = RandomForestClassifier(random_state=42, n_estimators=100)\n",
        "rf_clf.fit(X_train_resampled, y_train_resampled)\n",
        "\n",
        "y_pred = rf_clf.predict(X_test)\n",
        "print(\"Random Forest with ADASYN Custom:\")\n",
        "print(classification_report(y_test, y_pred))\n",
        "print(confusion_matrix(y_test, y_pred))\n",
        "\n",
        "cm = confusion_matrix(y_test, y_pred)\n",
        "plt.figure(figsize=(8, 6))\n",
        "sns.heatmap(cm, annot=True, fmt='d', cmap='viridis', cbar=False,\n",
        "            xticklabels=['Class 0', 'Class 1', 'Class 2', 'Class 3'],\n",
        "            yticklabels=['Class 0', 'Class 1', 'Class 2', 'Class 3'])\n",
        "plt.xlabel('Predicted')\n",
        "plt.ylabel('Actual')\n",
        "plt.title('Confusion Matrix - RandomForest with ADASYN Custom')\n",
        "plt.show()"
      ],
      "metadata": {
        "colab": {
          "base_uri": "https://localhost:8080/",
          "height": 842
        },
        "id": "_-qIPaPH3hct",
        "outputId": "6f412973-1695-4861-d7ff-494bbde5bcbb"
      },
      "execution_count": 16,
      "outputs": [
        {
          "output_type": "stream",
          "name": "stdout",
          "text": [
            "Random Forest with ADASYN Custom:\n",
            "              precision    recall  f1-score   support\n",
            "\n",
            "         0.0       0.10      0.02      0.03        52\n",
            "         1.0       0.00      0.00      0.00        21\n",
            "         2.0       0.14      0.05      0.07        21\n",
            "         3.0       0.71      0.95      0.81       212\n",
            "\n",
            "    accuracy                           0.66       306\n",
            "   macro avg       0.24      0.25      0.23       306\n",
            "weighted avg       0.52      0.66      0.57       306\n",
            "\n",
            "[[  1   1   2  48]\n",
            " [  2   0   1  18]\n",
            " [  1   1   1  18]\n",
            " [  6   2   3 201]]\n"
          ]
        },
        {
          "output_type": "display_data",
          "data": {
            "text/plain": [
              "<Figure size 800x600 with 1 Axes>"
            ],
            "image/png": "[encoded data removed]"
          },
          "metadata": {}
        }
      ]
    },
    {
      "cell_type": "code",
      "source": [
        "# XGBoost with ADASYN Custom Strategy\n",
        "xg_clf = XGBClassifier(random_state=42, n_estimators=100)\n",
        "xg_clf.fit(X_train_resampled, y_train_resampled)\n",
        "\n",
        "y_pred = xg_clf.predict(X_test)\n",
        "print(\"XGBoost with ADASYN Custom:\")\n",
        "print(classification_report(y_test, y_pred))\n",
        "print(confusion_matrix(y_test, y_pred))"
      ],
      "metadata": {
        "colab": {
          "base_uri": "https://localhost:8080/"
        },
        "id": "EEjgpg9c3lE1",
        "outputId": "aaa56dbe-709d-42ae-989c-b51e69e8fbfc"
      },
      "execution_count": 94,
      "outputs": [
        {
          "output_type": "stream",
          "name": "stdout",
          "text": [
            "XGBoost with ADASYN Custom:\n",
            "              precision    recall  f1-score   support\n",
            "\n",
            "         0.0       0.23      0.12      0.15        52\n",
            "         1.0       0.00      0.00      0.00        21\n",
            "         2.0       0.00      0.00      0.00        21\n",
            "         3.0       0.69      0.88      0.77       212\n",
            "\n",
            "    accuracy                           0.63       306\n",
            "   macro avg       0.23      0.25      0.23       306\n",
            "weighted avg       0.52      0.63      0.56       306\n",
            "\n",
            "[[  6   1   2  43]\n",
            " [  1   0   0  20]\n",
            " [  0   0   0  21]\n",
            " [ 19   3   3 187]]\n"
          ]
        }
      ]
    },
    {
      "cell_type": "code",
      "source": [
        "# SVM with ADASYN Custom Strategy\n",
        "svm_clf = SVC(random_state=42, kernel='linear')\n",
        "svm_clf.fit(X_train_resampled, y_train_resampled)\n",
        "\n",
        "y_pred = svm_clf.predict(X_test)\n",
        "print(\"SVM with ADASYN Custom:\")\n",
        "print(classification_report(y_test, y_pred))\n",
        "print(confusion_matrix(y_test, y_pred))"
      ],
      "metadata": {
        "colab": {
          "base_uri": "https://localhost:8080/"
        },
        "id": "_hllNYP73oCJ",
        "outputId": "8f765e69-e803-403f-fe61-1447a8ac4964"
      },
      "execution_count": 95,
      "outputs": [
        {
          "output_type": "stream",
          "name": "stdout",
          "text": [
            "SVM with ADASYN Custom:\n",
            "              precision    recall  f1-score   support\n",
            "\n",
            "         0.0       0.11      0.02      0.03        52\n",
            "         1.0       0.14      0.19      0.16        21\n",
            "         2.0       0.00      0.00      0.00        21\n",
            "         3.0       0.70      0.89      0.78       212\n",
            "\n",
            "    accuracy                           0.63       306\n",
            "   macro avg       0.24      0.27      0.24       306\n",
            "weighted avg       0.51      0.63      0.56       306\n",
            "\n",
            "[[  1   5   0  46]\n",
            " [  0   4   0  17]\n",
            " [  2   2   0  17]\n",
            " [  6  18   0 188]]\n"
          ]
        }
      ]
    },
    {
      "cell_type": "markdown",
      "source": [
        "### Summary Table\n",
        "\n",
        "| **Oversampler**       | **Sampling Strategy** | **Classifier**       | **Accuracy** | **Macro F1-Score** | **Weighted F1-Score** |\n",
        "|------------------------|-----------------------|----------------------|--------------|--------------------|-----------------------|\n",
        "| **SMOTE**             | Minority              | Random Forest        | 0.66         | 0.20               | 0.56                  |\n",
        "| **SMOTE**             | Minority              | XGBoost              | 0.63         | 0.27               | 0.57                  |\n",
        "| **SMOTE**             | Minority              | SVM                  | 0.50         | 0.21               | 0.49                  |\n",
        "| **SMOTE**             | Not Majority          | Random Forest        | 0.64         | 0.24               | 0.57                  |\n",
        "| **SMOTE**             | Not Majority          | XGBoost              | 0.64         | 0.27               | 0.57                  |\n",
        "| **SMOTE**             | Not Majority          | SVM                  | 0.23         | 0.19               | 0.28                  |\n",
        "| **SMOTE**             | Custom (0.8 ratio)    | Random Forest        | 0.64         | 0.21               | 0.56                  |\n",
        "| **SMOTE**             | Custom (0.8 ratio)    | XGBoost              | 0.65         | 0.29               | 0.58                  |\n",
        "| **SMOTE**             | Custom (0.8 ratio)    | SVM                  | 0.42         | 0.25               | 0.46                  |\n",
        "| **ADASYN**            | Minority              | Random Forest        | 0.67         | 0.20               | 0.56                  |\n",
        "| **ADASYN**            | Minority              | XGBoost              | 0.64         | 0.23               | 0.56                  |\n",
        "| **ADASYN**            | Minority              | SVM                  | 0.47         | 0.20               | 0.47                  |\n",
        "| **ADASYN**            | Not Majority          | Random Forest        | 0.65         | 0.25               | 0.58                  |\n",
        "| **ADASYN**            | Not Majority          | XGBoost              | 0.63         | 0.26               | 0.56                  |\n",
        "| **ADASYN**            | Not Majority          | SVM                  | 0.24         | 0.19               | 0.29                  |\n",
        "| **ADASYN**            | Custom (0.5 ratio)    | Random Forest        | 0.66         | 0.23               | 0.57                  |\n",
        "| **ADASYN**            | Custom (0.5 ratio)    | XGBoost              | 0.63         | 0.23               | 0.56                  |\n",
        "| **ADASYN**            | Custom (0.5 ratio)    | SVM                  | 0.63         | 0.24               | 0.56                  |"
      ],
      "metadata": {
        "id": "kQiW-7dg4T2L"
      }
    },
    {
      "cell_type": "code",
      "source": [],
      "metadata": {
        "id": "gAwgD--I4k85"
      },
      "execution_count": null,
      "outputs": []
    }
  ]
}